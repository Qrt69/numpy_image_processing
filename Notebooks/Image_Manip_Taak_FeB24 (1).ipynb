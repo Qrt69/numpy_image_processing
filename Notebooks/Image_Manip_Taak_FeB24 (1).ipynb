{
 "cells": [
  {
   "cell_type": "markdown",
   "id": "b084dd1c",
   "metadata": {},
   "source": [
    "In dit programma :\n",
    "-inlezen\n",
    "-horizontaal flippen\n",
    "-vertikaal flippen\n",
    "-horizontaal + vertikaal flippen\n",
    "-kleuren r g b\n",
    "-kleuren r g b met wit\n",
    "-vergroten"
   ]
  },
  {
   "cell_type": "code",
   "execution_count": null,
   "id": "9dec67f6",
   "metadata": {},
   "outputs": [],
   "source": [
    "from PIL import Image, ImageOps\n",
    "import matplotlib.pyplot as plt\n",
    "import numpy as np"
   ]
  },
  {
   "cell_type": "code",
   "execution_count": null,
   "id": "4ffcbd4a",
   "metadata": {},
   "outputs": [],
   "source": [
    "foto1 = Image.open(\"python.jpg\")"
   ]
  },
  {
   "cell_type": "code",
   "execution_count": null,
   "id": "7ad2c2d3",
   "metadata": {},
   "outputs": [],
   "source": [
    "foto1.show()"
   ]
  },
  {
   "cell_type": "code",
   "execution_count": null,
   "id": "171350bb",
   "metadata": {},
   "outputs": [],
   "source": [
    "print(foto1.height, foto1.width)\n"
   ]
  },
  {
   "cell_type": "code",
   "execution_count": null,
   "id": "05387cd1",
   "metadata": {},
   "outputs": [],
   "source": [
    "#functie om beeld om te zetten naar matrix \n",
    "def imagetomatrix (file) :\n",
    "    image = Image.open(file)\n",
    "    imagematrix = np.asarray(image)\n",
    "    return imagematrix   \n"
   ]
  },
  {
   "cell_type": "code",
   "execution_count": null,
   "id": "5a7f9be8",
   "metadata": {},
   "outputs": [],
   "source": [
    "im_pylogo = imagetomatrix(\"python.jpg\") \n",
    "print(im_pylogo.shape)\n",
    "plt.imshow(im_pylogo)\n"
   ]
  },
  {
   "cell_type": "code",
   "execution_count": null,
   "id": "a1f5f9fa",
   "metadata": {},
   "outputs": [],
   "source": [
    "#functie om (image)matrix horizontaal te spiegelen \n",
    "def fliphor (matrix) :\n",
    "    r = matrix.shape[0]\n",
    "    k = matrix.shape[1]\n",
    "    #print(r,k)\n",
    "    matrix_fliphor = np.zeros(shape = (r,k,3), dtype=np.int32)\n",
    "    for i in range(r) :\n",
    "        for j in range(k) :\n",
    "            matrix_fliphor[i,j] = matrix[i,(r-1-j)%r]        \n",
    "    return matrix_fliphor\n",
    "\n",
    "#functie om (image)matrix vertikaal te spiegelen \n",
    "def flipver (matrix) :\n",
    "    r = matrix.shape[0]\n",
    "    k = matrix.shape[1]\n",
    "    #print(r,k)\n",
    "    matrix_flipver = np.zeros(shape = (r,k,3), dtype=np.int32)\n",
    "    for i in range(r) :\n",
    "        for j in range(k) :\n",
    "            matrix_flipver[i,j] = matrix[(k-1-i)%k,j]  \n",
    "    return matrix_flipver\n",
    "\n",
    "#functie om (image)matrix horizontaal en vertikaal te spiegelen \n",
    "def fliphorver (matrix) :\n",
    "    r = matrix.shape[0]\n",
    "    k = matrix.shape[1]\n",
    "    #print(r,k)\n",
    "    matrix_fliphorver = np.zeros(shape = (r,k,3), dtype=np.int32)\n",
    "    matrix_fliphorver = flipver(fliphor(matrix))\n",
    "    return matrix_fliphorver\n"
   ]
  },
  {
   "cell_type": "code",
   "execution_count": null,
   "id": "8557cd6b",
   "metadata": {},
   "outputs": [],
   "source": [
    "im_pylogo_h = fliphor (im_pylogo)\n",
    "plt.imshow(im_pylogo_h)"
   ]
  },
  {
   "cell_type": "code",
   "execution_count": null,
   "id": "1fa97882",
   "metadata": {},
   "outputs": [],
   "source": [
    "im_pylogo_v = flipver (im_pylogo)\n",
    "plt.imshow(im_pylogo_v)"
   ]
  },
  {
   "cell_type": "code",
   "execution_count": null,
   "id": "9831116d",
   "metadata": {},
   "outputs": [],
   "source": [
    "im_pylogo_hv = fliphorver (im_pylogo)\n",
    "plt.imshow(im_pylogo_hv)"
   ]
  },
  {
   "cell_type": "code",
   "execution_count": null,
   "id": "6fa2883e",
   "metadata": {},
   "outputs": [],
   "source": [
    "#functie om 1 kleur van imagematric (rgb) te bewaren \n",
    "def keepcolor (matrix,color) :\n",
    "    matrix_color = matrix.copy()\n",
    "    if color == 0 : #keep red postitie 0:\n",
    "        matrix_color[:,:,[1,2]] = 0\n",
    "    elif color == 1 : #keep green postitie 1:\n",
    "        matrix_color[:,:,[0,2]] = 0\n",
    "    elif color == 2 : #keep blue postitie 2:\n",
    "        matrix_color[:,:,[0,1]] = 0\n",
    "    return matrix_color\n"
   ]
  },
  {
   "cell_type": "code",
   "execution_count": null,
   "id": "ddaca239",
   "metadata": {},
   "outputs": [],
   "source": [
    "im_pylogo_red = keepcolor (im_pylogo,0)\n",
    "plt.imshow(im_pylogo_red)"
   ]
  },
  {
   "cell_type": "code",
   "execution_count": null,
   "id": "eb83f98c",
   "metadata": {},
   "outputs": [],
   "source": [
    "im_pylogo_green = keepcolor (im_pylogo,1)\n",
    "plt.imshow(im_pylogo_green)"
   ]
  },
  {
   "cell_type": "code",
   "execution_count": null,
   "id": "a3af2a7a",
   "metadata": {},
   "outputs": [],
   "source": [
    "im_pylogo_blue = keepcolor (im_pylogo,2)\n",
    "plt.imshow(im_pylogo_blue)"
   ]
  },
  {
   "cell_type": "code",
   "execution_count": null,
   "id": "e63341ff",
   "metadata": {},
   "outputs": [],
   "source": [
    "#functie om white (255,255,255) + 1 kleur van imagematric (rgb) te bewaren \n",
    "def keepcolor_w (matrix,color) :\n",
    "    matrix_color = matrix.copy()\n",
    "    for i in range(matrix.shape[0]) :\n",
    "        for j in range(matrix.shape[1]) :\n",
    "            if not (matrix_color[i,j,0] == 255 and matrix_color[i,j,1] == 255 and matrix_color[i,j,2] == 255) :\n",
    "                if color == 0 : #keep red postitie 0:\n",
    "                    matrix_color[i,j,[1,2]] = 0\n",
    "                elif color == 1 : #keep green postitie 1:\n",
    "                    matrix_color[i,j,[0,2]] = 0\n",
    "                elif color == 2 : #keep blue postitie 2:\n",
    "                    matrix_color[i,j,[0,1]] = 0\n",
    "    return matrix_color\n"
   ]
  },
  {
   "cell_type": "code",
   "execution_count": null,
   "id": "109692d7",
   "metadata": {},
   "outputs": [],
   "source": [
    "im_pylogo_redw = keepcolor_w (im_pylogo,0)\n",
    "plt.imshow(im_pylogo_redw)"
   ]
  },
  {
   "cell_type": "code",
   "execution_count": null,
   "id": "21cd403e",
   "metadata": {},
   "outputs": [],
   "source": [
    "im_pylogo_greenw = keepcolor_w (im_pylogo,1)\n",
    "plt.imshow(im_pylogo_greenw)"
   ]
  },
  {
   "cell_type": "code",
   "execution_count": null,
   "id": "2dfaf309",
   "metadata": {},
   "outputs": [],
   "source": [
    "im_pylogo_bluew = keepcolor_w (im_pylogo,2)\n",
    "plt.imshow(im_pylogo_bluew)"
   ]
  },
  {
   "cell_type": "code",
   "execution_count": null,
   "id": "047b400e",
   "metadata": {},
   "outputs": [],
   "source": [
    "#functie om (image)matrix een factor te vergroten \n",
    "def larger (matrix,f) :\n",
    "    r = matrix.shape[0]\n",
    "    k = matrix.shape[1]\n",
    "    matrix_larger = np.zeros(shape = (r*f,k*f,3), dtype=np.int32)\n",
    "    for i in range(matrix_larger.shape[0]) :\n",
    "        for j in range(matrix_larger.shape[1]) :\n",
    "            matrix_larger[i,j] = matrix[i//f,j//f]\n",
    "    return matrix_larger\n"
   ]
  },
  {
   "cell_type": "code",
   "execution_count": null,
   "id": "c9fd9d59",
   "metadata": {},
   "outputs": [],
   "source": [
    "im_pylogo_f2 = larger (im_pylogo,2)\n",
    "plt.imshow(im_pylogo_f2)\n"
   ]
  },
  {
   "cell_type": "code",
   "execution_count": null,
   "id": "57a04d26",
   "metadata": {},
   "outputs": [],
   "source": [
    "im_pylogo_f6 = larger (im_pylogo,6)\n",
    "plt.imshow(im_pylogo_f6)\n"
   ]
  },
  {
   "cell_type": "code",
   "execution_count": null,
   "id": "faf8a7c5",
   "metadata": {},
   "outputs": [],
   "source": [
    "#functie om (image)matrix horizontaal te herhalen \n",
    "def repeat_k (matrix,fk) : #k >= 2\n",
    "    pict = matrix.copy()\n",
    "    for j in range(1,fk) :\n",
    "        pict = np.concatenate([pict, matrix], axis = 1)\n",
    "    return pict \n",
    "\n",
    "#functie om (image)matrix horizontaal te herhalen \n",
    "def repeat_r (matrix,fr) : #r >= 2\n",
    "    pict = matrix.copy()\n",
    "    for i in range(1,fr) :\n",
    "        pict = np.concatenate([pict, matrix], axis = 0)\n",
    "    return pict        \n",
    "                               "
   ]
  },
  {
   "cell_type": "code",
   "execution_count": null,
   "id": "63e7e4a4",
   "metadata": {},
   "outputs": [],
   "source": [
    "im_pylogo_k6 = repeat_k (im_pylogo,6)\n",
    "plt.imshow(im_pylogo_k6)"
   ]
  },
  {
   "cell_type": "code",
   "execution_count": null,
   "id": "7a6db9ed",
   "metadata": {},
   "outputs": [],
   "source": [
    "im_pylogo_r4 = repeat_r (im_pylogo,4)\n",
    "plt.imshow(im_pylogo_r4)"
   ]
  },
  {
   "cell_type": "code",
   "execution_count": null,
   "id": "c6809d41",
   "metadata": {},
   "outputs": [],
   "source": [
    "im_pylogo_k8r3 = repeat_k (repeat_r (im_pylogo,3),8)\n",
    "plt.imshow(im_pylogo_k8r3)"
   ]
  },
  {
   "cell_type": "code",
   "execution_count": null,
   "id": "605f9c18",
   "metadata": {},
   "outputs": [],
   "source": [
    "pict1 = repeat_k (np.concatenate([im_pylogo, im_pylogo_h, im_pylogo_v, im_pylogo_hv], axis = 0),6)\n",
    "plt.imshow(pict1)"
   ]
  },
  {
   "cell_type": "code",
   "execution_count": null,
   "id": "aeccdd35",
   "metadata": {},
   "outputs": [],
   "source": [
    "pict2a = repeat_k (im_pylogo_bluew, 4)\n",
    "plt.imshow(pict2a)\n"
   ]
  },
  {
   "cell_type": "code",
   "execution_count": null,
   "id": "d8d4d2a4",
   "metadata": {},
   "outputs": [],
   "source": [
    "pict2c = repeat_k (im_pylogo_greenw, 4)\n",
    "plt.imshow(pict2c)"
   ]
  },
  {
   "cell_type": "code",
   "execution_count": null,
   "id": "95efe3b9",
   "metadata": {},
   "outputs": [],
   "source": [
    "pict2b = np.concatenate([repeat_r (im_pylogo_redw, 2), larger (im_pylogo, 2), repeat_r (im_pylogo_redw, 2)], axis = 1)\n",
    "plt.imshow(pict2b)"
   ]
  },
  {
   "cell_type": "code",
   "execution_count": null,
   "id": "548715a6",
   "metadata": {},
   "outputs": [],
   "source": [
    "pict2 = np.concatenate([pict2a, pict2b, pict2c], axis = 0)\n",
    "plt.imshow(pict2)"
   ]
  },
  {
   "cell_type": "code",
   "execution_count": null,
   "id": "65846ca1",
   "metadata": {},
   "outputs": [],
   "source": [
    "def grid_with_flips(image, matrix):\n",
    "    \n",
    "    #Define flip types\n",
    "    def fliphor (matrix) :\n",
    "        r = matrix.shape[0]\n",
    "        k = matrix.shape[1]\n",
    "        matrix_fliphor = np.zeros(shape = (r,k,3), dtype=np.int32)\n",
    "        for i in range(r) :\n",
    "            for j in range(k) :\n",
    "                matrix_fliphor[i,j] = matrix[i,(r-1-j)%r]        \n",
    "        return matrix_fliphor\n",
    " \n",
    "    def flipver (matrix) :\n",
    "        r = matrix.shape[0]\n",
    "        k = matrix.shape[1]\n",
    "        matrix_flipver = np.zeros(shape = (r,k,3), dtype=np.int32)\n",
    "        for i in range(r) :\n",
    "            for j in range(k) :\n",
    "                matrix_flipver[i,j] = matrix[(k-1-i)%k,j]  \n",
    "        return matrix_flipver\n",
    "     \n",
    "    def fliphorver (matrix) :\n",
    "        r = matrix.shape[0]\n",
    "        k = matrix.shape[1]\n",
    "        matrix_fliphorver = np.zeros(shape = (r,k,3), dtype=np.int32)\n",
    "        matrix_fliphorver = flipver(fliphor(matrix))\n",
    "        return matrix_fliphorver\n",
    "    \n",
    "   #Calculate number of rows and columns\n",
    "    num_rows = len(matrix)\n",
    "    num_cols = len(matrix[0]) \n",
    "    \n",
    "    #Create empty matrix\n",
    "    flipped_images = []\n",
    "    \n",
    "    \n",
    "    for row in range(num_rows):\n",
    "        for col in range(num_cols):\n",
    "            #Coördinates of each flip type\n",
    "            flip_type = matrix[row][col]\n",
    "            \n",
    "            \n",
    "            #Assign flip types\n",
    "            if flip_type == 0:\n",
    "                flipped_image = image\n",
    "            elif flip_type == 1:\n",
    "                flipped_image = fliphor(image)\n",
    "            elif flip_type == 2:\n",
    "                flipped_image = flipver(image)\n",
    "            elif flip_type == 3:\n",
    "                flipped_image = fliphorver(image)\n",
    "            \n",
    "            #Append all images\n",
    "            flipped_images.append(flipped_image)\n",
    "            \n",
    "    # Create subplots to display each flipped image\n",
    "    num_images = len(flipped_images)\n",
    "    rows = int(np.ceil(num_images / num_cols))\n",
    "    fig, axes = plt.subplots(rows, num_cols, figsize=(5*num_cols, 5*rows))\n",
    "    \n",
    "    for i, ax in enumerate(axes.flat):\n",
    "        if i < num_images:\n",
    "            ax.imshow(flipped_images[i])\n",
    "            ax.set_axis_off()\n",
    "        else:\n",
    "            ax.axis('off')\n",
    "    \n",
    "    #Show new image\n",
    "    plt.show(flipped_images)\n",
    "    \n",
    "grid_with_flips(im_pylogo,  [[1 for i in range(7)] for i in range(3)])   "
   ]
  },
  {
   "cell_type": "code",
   "execution_count": null,
   "id": "ad6dc644",
   "metadata": {},
   "outputs": [],
   "source": [
    "def grid_with_flips(image, matrix):\n",
    "    \n",
    "   #Calculate number of rows and columns\n",
    "    num_rows = len(matrix)\n",
    "    num_cols = len(matrix[0]) \n",
    "    \n",
    "    #Create empty matrix\n",
    "    flipped_images = []\n",
    "    \n",
    "\n",
    "    for row in range(num_rows):\n",
    "        for col in range(num_cols):\n",
    "            #Coördinates of each flip type\n",
    "            flip_type = matrix[row][col]\n",
    "            \n",
    "             #Assign flip types\n",
    "            if flip_type == 0:\n",
    "                flipped_image = image\n",
    "            elif flip_type == 1:\n",
    "                flipped_image = np.flipud(image)\n",
    "            elif flip_type == 2:\n",
    "                flipped_image = np.fliplr(image)\n",
    "            elif flip_type == 3:\n",
    "                flipped_image = np.flipud(np.fliplr(image))\n",
    "            \n",
    "            #Append all images\n",
    "            flipped_images.append(flipped_image)\n",
    "            \n",
    "    # Create subplots to display each flipped image\n",
    "    num_images = len(flipped_images)\n",
    "    rows = int(np.ceil(num_images / num_cols))\n",
    "    fig, axes = plt.subplots(rows, num_cols, figsize=(5*num_cols, 5*rows))\n",
    "    \n",
    "    for i, ax in enumerate(axes.flat):\n",
    "        if i < num_images:\n",
    "            ax.imshow(flipped_images[i])\n",
    "            ax.set_axis_off()\n",
    "        else:\n",
    "            ax.axis('off')\n",
    "    \n",
    "    #Show new image\n",
    "    plt.show(flipped_images)\n",
    "    \n",
    "file_path = r'C:\\Users\\maiaf\\OneDrive\\Documenten\\numpy_image_processing\\data\\input\\python.jpg'\n",
    "im_pylogo = Image.open(file_path)\n",
    "grid_with_flips(im_pylogo,  [[0, 1], [2, 3]])  "
   ]
  },
  {
   "cell_type": "code",
   "execution_count": null,
   "id": "d74827cf",
   "metadata": {},
   "outputs": [],
   "source": [
    "def create_colorful_big_one(colors) :\n",
    "   \n",
    "    original_image_size = (im_pylogo.width, im_pylogo.height)\n",
    "\n",
    "    # Create an empty matrix \n",
    "    empty_matrix = np.zeros((original_image_size[0] * 2 + 4, original_image_size[1] * 2 + 4, 3), dtype=np.uint8)\n",
    "\n",
    "    #Define colors\n",
    "    def keepcolor_w(matrix, color):\n",
    "        matrix = np.asarray(matrix)\n",
    "    \n",
    "        matrix_color = matrix.copy()\n",
    "        for i in range(matrix_color.shape[0]):\n",
    "            for j in range(matrix_color.shape[1]):\n",
    "                if not (matrix_color[i,j,0] == 255 and matrix_color[i,j,1] == 255 and matrix_color[i,j,2] == 255):\n",
    "                    if color == 0:  # keep red at position 0\n",
    "                        matrix_color[i,j,[1,2]] = 0\n",
    "                    elif color == 1:  # keep green at position 1\n",
    "                        matrix_color[i,j,[0,2]] = 0\n",
    "                    elif color == 2:  # keep blue at position 2\n",
    "                        matrix_color[i,j,[0,1]] = 0\n",
    "        return matrix_color\n",
    "    \n",
    "    doubled_image = np.kron(im_pylogo, np.ones((2, 2)))\n",
    "    \n",
    "    for i in range(len(colors)):\n",
    "        r = keepcolor_w (im_pylogo,0)\n",
    "        g = keepcolor_w (im_pylogo,1)\n",
    "        b = keepcolor_w (im_pylogo,2)\n",
    "    \n",
    "    row1 = colors[:4]\n",
    "    row2 = np.concatenate((colors[4:7], np.tile(doubled_image, (1, 2)), colors[6:9]), axis=1)\n",
    "    row3 = colors[-4:]\n",
    "    \n",
    "    coloured_images = np.concatenate([row1, row2, row3], axis = 0)\n",
    "    \n",
    "    #Show new image\n",
    "    plt.show(coloured_images)\n",
    "    \n",
    "file_path = r'C:\\Users\\maiaf\\OneDrive\\Documenten\\numpy_image_processing\\data\\input\\python.jpg'\n",
    "im_pylogo = Image.open(file_path)\n",
    "create_colorful_big_one(['b', 'b', 'b', 'b', 'r', 'r', 'g', 'g', 'g', 'g', 'r','r'])"
   ]
  },
  {
   "cell_type": "code",
   "execution_count": null,
   "id": "4a8eec42",
   "metadata": {},
   "outputs": [],
   "source": []
  },
  {
   "cell_type": "code",
   "execution_count": null,
   "id": "44eb5531",
   "metadata": {},
   "outputs": [],
   "source": []
  },
  {
   "cell_type": "code",
   "execution_count": null,
   "id": "8634d378",
   "metadata": {},
   "outputs": [],
   "source": []
  },
  {
   "cell_type": "code",
   "execution_count": null,
   "id": "20de7d32",
   "metadata": {},
   "outputs": [],
   "source": []
  },
  {
   "cell_type": "code",
   "execution_count": null,
   "id": "005a435f",
   "metadata": {},
   "outputs": [],
   "source": []
  }
 ],
 "metadata": {
  "kernelspec": {
   "display_name": "Python 3 (ipykernel)",
   "language": "python",
   "name": "python3"
  },
  "language_info": {
   "codemirror_mode": {
    "name": "ipython",
    "version": 3
   },
   "file_extension": ".py",
   "mimetype": "text/x-python",
   "name": "python",
   "nbconvert_exporter": "python",
   "pygments_lexer": "ipython3",
   "version": "3.11.5"
  }
 },
 "nbformat": 4,
 "nbformat_minor": 5
}
